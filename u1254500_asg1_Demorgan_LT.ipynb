{
  "nbformat": 4,
  "nbformat_minor": 0,
  "metadata": {
    "kernelspec": {
      "display_name": "Python 3",
      "language": "python",
      "name": "python3"
    },
    "language_info": {
      "codemirror_mode": {
        "name": "ipython",
        "version": 3
      },
      "file_extension": ".py",
      "mimetype": "text/x-python",
      "name": "python",
      "nbconvert_exporter": "python",
      "pygments_lexer": "ipython3",
      "version": "3.7.3"
    },
    "colab": {
      "name": "u1254500_asg1_Demorgan_LT.ipynb",
      "provenance": [],
      "collapsed_sections": []
    }
  },
  "cells": [
    {
      "cell_type": "markdown",
      "metadata": {
        "id": "JhCQ1RsatCPx"
      },
      "source": [
        "# First let's import, then look for the assignment below"
      ]
    },
    {
      "cell_type": "code",
      "metadata": {
        "id": "RCdfKPUL2yiE"
      },
      "source": [
        ""
      ],
      "execution_count": null,
      "outputs": []
    },
    {
      "cell_type": "code",
      "metadata": {
        "id": "f-XICFSI2yyk"
      },
      "source": [
        ""
      ],
      "execution_count": null,
      "outputs": []
    },
    {
      "cell_type": "code",
      "metadata": {
        "id": "w7MwDkhOtCP0",
        "colab": {
          "base_uri": "https://localhost:8080/"
        },
        "outputId": "ac8375fc-01fc-47e5-c87b-d858ab31aece"
      },
      "source": [
        "#~~~~~~~~~~~~~~~~~~~~~~~~~~~~~~~~~~~~~~~~~~~~~~~~~~~~~~~\n",
        "import sys\n",
        "\n",
        "# -- Detect if in Own Install or in Colab\n",
        "try:\n",
        "    import google.colab\n",
        "    OWN_INSTALL = False\n",
        "except:\n",
        "    OWN_INSTALL = True\n",
        "    \n",
        "if OWN_INSTALL:\n",
        "    \n",
        "  #---- Leave these definitions ON if running on laptop\n",
        "  #---- Else turn OFF by putting them between ''' ... '''\n",
        "\n",
        "  sys.path[0:0] = ['../../../../..',  '../../../../../3rdparty',  \n",
        "                   '../../../..',  '../../../../3rdparty',  \n",
        "                   '../../..',     '../../../3rdparty', \n",
        "                   '../..',        '../../3rdparty',\n",
        "                   '..',           '../3rdparty' ]\n",
        "\n",
        "else: # In colab\n",
        "  ! if [ ! -d Jove ]; then git clone https://github.com/ganeshutah/Jove Jove; fi\n",
        "  sys.path.append('./Jove')\n",
        "  sys.path.append('./Jove/jove')\n",
        "\n",
        "# -- common imports --\n",
        "from jove.LangDef   import *\n",
        "#~~~~~~~~~~~~~~~~~~~~~~~~~~~~~~~~~~~~~~~~~~~~~~~~~~~~~~~"
      ],
      "execution_count": null,
      "outputs": [
        {
          "output_type": "stream",
          "name": "stdout",
          "text": [
            "Cloning into 'Jove'...\n",
            "remote: Enumerating objects: 4724, done.\u001b[K\n",
            "remote: Counting objects: 100% (90/90), done.\u001b[K\n",
            "remote: Compressing objects: 100% (64/64), done.\u001b[K\n",
            "remote: Total 4724 (delta 48), reused 59 (delta 23), pack-reused 4634\u001b[K\n",
            "Receiving objects: 100% (4724/4724), 7.51 MiB | 14.26 MiB/s, done.\n",
            "Resolving deltas: 100% (3053/3053), done.\n",
            "You may use any of these help commands:\n",
            "help(lphi)\n",
            "help(lunit)\n",
            "help(lcat)\n",
            "help(lexp)\n",
            "help(lunion)\n",
            "help(lstar)\n",
            "help(srev)\n",
            "help(lrev)\n",
            "help(shomo)\n",
            "help(lhomo)\n",
            "help(powset)\n",
            "help(lint)\n",
            "help(lsymdiff)\n",
            "help(lminus)\n",
            "help(lissubset)\n",
            "help(lissuperset)\n",
            "help(lcomplem)\n",
            "help(product)\n",
            "help(nthnumeric)\n",
            "\n"
          ]
        }
      ]
    },
    {
      "cell_type": "markdown",
      "metadata": {
        "id": "9EwT56hktCP3"
      },
      "source": [
        "# Assignment-1 Problem-4 on DeMorgan's Law graded by Leon Tran (LT)\n",
        "\n",
        " \n",
        "\n",
        "### BEFORE YOU SUBMIT THIS FILE, PLEASE RENAME THIS FILE BY REPLACING THE 0000000 IN THE FILE NAME WITH YOUR CORRECT UNID. KEEP THE \"u\" AT THE BEGINNING.\n",
        "\n",
        "\n",
        " <font size=\"4\"> \n",
        "\n",
        "Let's illustrate DeMorgan's Law using Jove.  \n",
        "    \n",
        "</font>"
      ]
    },
    {
      "cell_type": "markdown",
      "metadata": {
        "id": "JAn1eiHytCP3"
      },
      "source": [
        "# Define the universe $\\Sigma_4^*$ for the $\\Sigma$ given below, consulting Pages 28-29 of our book"
      ]
    },
    {
      "cell_type": "code",
      "metadata": {
        "id": "Magh3UM-tCP4",
        "colab": {
          "base_uri": "https://localhost:8080/"
        },
        "outputId": "8e6bcdb8-6e99-46d2-9eb5-ee6bd47e2847"
      },
      "source": [
        "Sigma = {'a', 'b', 'c'}\n",
        "\n",
        "Sigma_4_Star = lstar(Sigma,4)\n",
        "print(Sigma_4_Star)"
      ],
      "execution_count": null,
      "outputs": [
        {
          "output_type": "stream",
          "name": "stdout",
          "text": [
            "{'', 'acbb', 'aacc', 'abc', 'aacb', 'ab', 'cbca', 'baac', 'aabb', 'bbcc', 'abac', 'abcb', 'bb', 'ccbc', 'bacb', 'cbac', 'cacc', 'cabb', 'bbba', 'bc', 'bcbb', 'aaaa', 'cbba', 'bcaa', 'caaa', 'ac', 'cccc', 'cbcb', 'bbaa', 'cc', 'acab', 'bbab', 'abbb', 'bcac', 'cbbc', 'ccb', 'bbb', 'cab', 'cac', 'bcca', 'accc', 'abaa', 'bcab', 'aaca', 'babc', 'bcba', 'acca', 'bca', 'cbc', 'caac', 'abca', 'cbcc', 'bacc', 'ccbb', 'c', 'baba', 'abcc', 'bcc', 'cbbb', 'ccac', 'bbca', 'abbc', 'ccaa', 'ba', 'ca', 'baaa', 'cacb', 'acbc', 'caca', 'cabc', 'bccc', 'bab', 'acc', 'bbac', 'aaac', 'babb', 'bcbc', 'aa', 'ccc', 'aab', 'abba', 'baa', 'aabc', 'ccba', 'accb', 'aaa', 'abab', 'cca', 'ccab', 'cbab', 'abb', 'acba', 'aca', 'cccb', 'bac', 'acaa', 'aac', 'ccca', 'caab', 'caa', 'bcb', 'cba', 'b', 'bba', 'aaba', 'bbc', 'a', 'acac', 'bccb', 'bbbc', 'cbaa', 'caba', 'baca', 'bbcb', 'acb', 'aba', 'aaab', 'cb', 'baab', 'bbbb', 'cbb'}\n"
          ]
        }
      ]
    },
    {
      "cell_type": "markdown",
      "metadata": {
        "id": "if_YomUrtCP4"
      },
      "source": [
        "# Illustrate DeMorgan's law with respect to these two sets:\n",
        "\n",
        "* $A = \\{a, \\varepsilon , bc\\}$\n",
        "\n",
        "* $B = \\{a, \\varepsilon, bba, ca\\}$\n",
        "\n",
        "## Specific instructions\n",
        "\n",
        "* Show, using Jove, that $\\overline{(A\\cup B)} = \\overline{A} \\cap \\overline{B}$. \n",
        "\n",
        "* Here, LHS = $\\overline{(A\\cup B)}$\n",
        "\n",
        "* And RHS = $\\overline{A} \\cap \\overline{B}$\n"
      ]
    },
    {
      "cell_type": "code",
      "metadata": {
        "id": "g73kLwiPtCP5",
        "colab": {
          "base_uri": "https://localhost:8080/"
        },
        "outputId": "61af3d78-28ad-49cb-c0d0-62a1568e1b21"
      },
      "source": [
        "help(lcomplem) # read and follow"
      ],
      "execution_count": null,
      "outputs": [
        {
          "output_type": "stream",
          "name": "stdout",
          "text": [
            "Help on function lcomplem in module jove.LangDef:\n",
            "\n",
            "lcomplem(L, sigma, n)\n",
            "    In : L (language : set of strings)\n",
            "         sigma (alphabet : set of strings)\n",
            "         n (finite limit for lstar : int)\n",
            "    Out : sigma*_n - L (language : set of strings)\n",
            "    Example:\n",
            "    L = {'0', '10', '010'}\n",
            "    sigma = {'0', '1'}\n",
            "    n = 3\n",
            "    lcomplem(L4,{'0','1'}, 3) -> \n",
            "    {'', '000', '101', '011', '00', '1', \n",
            "     '001', '110', '111', '100', '01', '11'}\n",
            "\n"
          ]
        }
      ]
    },
    {
      "cell_type": "code",
      "metadata": {
        "id": "6HOz1BqatCP6",
        "colab": {
          "base_uri": "https://localhost:8080/"
        },
        "outputId": "fb0eb996-2abe-4d75-c3e7-0c5f5b0766c9"
      },
      "source": [
        "help(lunion) # read and follow"
      ],
      "execution_count": null,
      "outputs": [
        {
          "output_type": "stream",
          "name": "stdout",
          "text": [
            "Help on function lunion in module jove.LangDef:\n",
            "\n",
            "lunion(L1, L2)\n",
            "    In : L1 (language : a set),\n",
            "         L2 (language : a set).\n",
            "    Out: L1 union L2 (language : a set).\n",
            "\n"
          ]
        }
      ]
    },
    {
      "cell_type": "code",
      "metadata": {
        "id": "EiFoFW9atCP6",
        "colab": {
          "base_uri": "https://localhost:8080/"
        },
        "outputId": "f2c15b10-0e71-4c5c-bd92-aac39a723d1c"
      },
      "source": [
        "help(lint) # read and follow"
      ],
      "execution_count": null,
      "outputs": [
        {
          "output_type": "stream",
          "name": "stdout",
          "text": [
            "Help on function lint in module jove.LangDef:\n",
            "\n",
            "lint(L1, L2)\n",
            "    In : L1 (language : set of strings)\n",
            "         L2 (language : set of strings)\n",
            "    Out: L1 intersection L2 (sets of strings)\n",
            "\n"
          ]
        }
      ]
    },
    {
      "cell_type": "markdown",
      "metadata": {
        "id": "pAKEie0ktCP7"
      },
      "source": [
        "# OK, we are all set!"
      ]
    },
    {
      "cell_type": "code",
      "metadata": {
        "id": "XMV2b3hOtCP7"
      },
      "source": [
        "A = {'a', '' , 'bc'}\n",
        "\n",
        "B = {'a', '', 'bba', 'c'}"
      ],
      "execution_count": null,
      "outputs": []
    },
    {
      "cell_type": "code",
      "metadata": {
        "id": "hHnz-8K7tCP8",
        "colab": {
          "base_uri": "https://localhost:8080/"
        },
        "outputId": "f8f97e7e-653f-461e-ad8f-70e0f59f73c1"
      },
      "source": [
        "\n",
        "LHS = lcomplem(lunion(A,B),lunion(A,B),1)\n",
        "print(LHS)\n",
        "\n",
        "RHS = lint(lcomplem(A,B,1),lcomplem(B,A,1))\n",
        "print(RHS)"
      ],
      "execution_count": null,
      "outputs": [
        {
          "output_type": "stream",
          "name": "stdout",
          "text": [
            "set()\n",
            "set()\n"
          ]
        }
      ]
    },
    {
      "cell_type": "markdown",
      "metadata": {
        "id": "s6LKYyNPtCP8"
      },
      "source": [
        "# Check DeMorgan's Law"
      ]
    },
    {
      "cell_type": "code",
      "metadata": {
        "id": "3PAhAD7ntCP8",
        "colab": {
          "base_uri": "https://localhost:8080/"
        },
        "outputId": "730d5632-4ffe-4a33-fd2b-57468661d8dd"
      },
      "source": [
        "# Now, perform LHS == RHS in Python and check if it is true\n",
        "\n",
        "LHS == RHS\n",
        "\n",
        "# Must print True"
      ],
      "execution_count": null,
      "outputs": [
        {
          "output_type": "execute_result",
          "data": {
            "text/plain": [
              "True"
            ]
          },
          "metadata": {},
          "execution_count": 33
        }
      ]
    },
    {
      "cell_type": "markdown",
      "metadata": {
        "id": "tqOGBdgttCP9"
      },
      "source": [
        "# END "
      ]
    }
  ]
}