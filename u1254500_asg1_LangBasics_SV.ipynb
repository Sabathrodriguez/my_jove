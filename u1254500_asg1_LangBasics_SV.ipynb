{
  "nbformat": 4,
  "nbformat_minor": 0,
  "metadata": {
    "kernelspec": {
      "display_name": "Python 3",
      "language": "python",
      "name": "python3"
    },
    "language_info": {
      "codemirror_mode": {
        "name": "ipython",
        "version": 3
      },
      "file_extension": ".py",
      "mimetype": "text/x-python",
      "name": "python",
      "nbconvert_exporter": "python",
      "pygments_lexer": "ipython3",
      "version": "3.7.3"
    },
    "colab": {
      "name": " u1254500_asg1_LangBasics_SV.ipynb",
      "provenance": [],
      "collapsed_sections": [
        "oRq4sSbEuLNv"
      ]
    }
  },
  "cells": [
    {
      "cell_type": "markdown",
      "metadata": {
        "id": "oRq4sSbEuLNv"
      },
      "source": [
        "# First let's import, then look for the assignment below"
      ]
    },
    {
      "cell_type": "code",
      "metadata": {
        "id": "NK6lxKwsuLNy"
      },
      "source": [
        "#~~~~~~~~~~~~~~~~~~~~~~~~~~~~~~~~~~~~~~~~~~~~~~~~~~~~~~~\n",
        "import sys\n",
        "\n",
        "# -- Detect if in Own Install or in Colab\n",
        "try:\n",
        "    import google.colab\n",
        "    OWN_INSTALL = False\n",
        "except:\n",
        "    OWN_INSTALL = True\n",
        "    \n",
        "if OWN_INSTALL:\n",
        "    \n",
        "  #---- Leave these definitions ON if running on laptop\n",
        "  #---- Else turn OFF by putting them between ''' ... '''\n",
        "\n",
        "  sys.path[0:0] = ['../../../../..',  '../../../../../3rdparty',  \n",
        "                   '../../../..',  '../../../../3rdparty',  \n",
        "                   '../../..',     '../../../3rdparty', \n",
        "                   '../..',        '../../3rdparty',\n",
        "                   '..',           '../3rdparty' ]\n",
        "\n",
        "else: # In colab\n",
        "  ! if [ ! -d Jove ]; then git clone https://github.com/ganeshutah/Jove Jove; fi\n",
        "  sys.path.append('./Jove')\n",
        "  sys.path.append('./Jove/jove')\n",
        "\n",
        "# -- common imports --\n",
        "from jove.LangDef   import *\n",
        "#~~~~~~~~~~~~~~~~~~~~~~~~~~~~~~~~~~~~~~~~~~~~~~~~~~~~~~~"
      ],
      "execution_count": 2,
      "outputs": []
    },
    {
      "cell_type": "markdown",
      "metadata": {
        "id": "UWGIc9YSuLN0"
      },
      "source": [
        "# Assignment-1 Problem-2 on Language Basics\n",
        "\n",
        "## Graded by Shashank Vadlamani (SV)\n",
        "\n",
        "### BEFORE YOU SUBMIT THIS FILE, PLEASE RENAME THIS FILE BY REPLACING THE 0000000 IN THE FILE NAME WITH YOUR CORRECT UNID. KEEP THE \"u\" AT THE BEGINNING.\n",
        "\n",
        "\n",
        " <font size=\"4\"> \n",
        "\n",
        "This problem helps you review the basics of languages, symbols, strings, concatenation, etc. It presents the material in the form of puzzles.  \n",
        "    \n",
        "Tasks for you:\n",
        " \n",
        "</font>"
      ]
    },
    {
      "cell_type": "markdown",
      "metadata": {
        "id": "51hIEGc_uLN0"
      },
      "source": [
        "<font size=\"4\"> \n",
        "\n",
        " \n",
        "1. If there are two languages $L_1$ and $L_2$, their concatenation has smaller size than their cartesian product if the following condition is met:\n",
        "    \n",
        "    **Their intersection is at least of size 2 and contains $\\varepsilon$**\n",
        "    \n",
        "    (The other aspects of the languages may be different.)\n",
        "    \n",
        "Your two tasks are described below.\n",
        "    \n",
        "</font>"
      ]
    },
    {
      "cell_type": "markdown",
      "metadata": {
        "id": "_hqtp6V1uLN1"
      },
      "source": [
        "# Space below for your arguments\n",
        "<font size=\"4\">\n",
        "\n",
        "\n",
        "</font>"
      ]
    },
    {
      "cell_type": "markdown",
      "metadata": {
        "id": "_4ejocA6uLN1"
      },
      "source": [
        "## Now present code that supports or refutes the claim."
      ]
    },
    {
      "cell_type": "markdown",
      "metadata": {
        "id": "vC5pph5WuLN1"
      },
      "source": [
        "# Task-1: Define two languages to print \"cat and product have the same size\" below. L1 and L2 must both contain $\\varepsilon$."
      ]
    },
    {
      "cell_type": "code",
      "metadata": {
        "id": "bMtvvoSruLN2"
      },
      "source": [
        "L1 = {'','a','b','z'}\n",
        "L2 = {'','aa','bb','c'}"
      ],
      "execution_count": 19,
      "outputs": []
    },
    {
      "cell_type": "code",
      "metadata": {
        "id": "H3xaV8IwuLN3",
        "colab": {
          "base_uri": "https://localhost:8080/"
        },
        "outputId": "79b24b5e-6785-410c-f16f-cd9450b506d2"
      },
      "source": [
        "print(\"L1 and L2 are\", L1, L2)\n",
        "\n",
        "# Perform their contatenation \n",
        "\n",
        "catL1L2 = lcat(L1,L2)\n",
        "lencatL1L2 = len(catL1L2)\n",
        "\n",
        "print(\"Cat of L1 and L2 is\", catL1L2, \" of size \", lencatL1L2)\n",
        "\n",
        "# Perform their intersection\n",
        "\n",
        "intL1L2 = lint(L1,L2)\n",
        "lenintL1L2 = len(intL1L2)\n",
        "\n",
        "print(\"Intersection of L1 and L2 is\", intL1L2, \" of size \", lenintL1L2)\n",
        "\n",
        "# Make a statement of what you observe\n",
        "\n",
        "prodL1L2 = { (x,y) for x in L1 for y in L2 }\n",
        "lenprodL1L2 = len(prodL1L2)\n",
        "\n",
        "print(\"Product of L1 and L2 is\", prodL1L2, \" of size \", lenprodL1L2)\n",
        "\n",
        "if (lenprodL1L2 != lencatL1L2):\n",
        "    print(\" cat and product differ in size \")\n",
        "else:\n",
        "    print(\" cat and product have the same size \")\n",
        "    \n",
        " "
      ],
      "execution_count": 20,
      "outputs": [
        {
          "output_type": "stream",
          "name": "stdout",
          "text": [
            "L1 and L2 are {'', 'a', 'z', 'b'} {'', 'bb', 'c', 'aa'}\n",
            "Cat of L1 and L2 is {'', 'bb', 'bbb', 'zc', 'zbb', 'bc', 'a', 'ac', 'z', 'abb', 'aaa', 'baa', 'zaa', 'b', 'c', 'aa'}  of size  16\n",
            "Intersection of L1 and L2 is {''}  of size  1\n",
            "Product of L1 and L2 is {('', 'bb'), ('z', 'bb'), ('', ''), ('b', ''), ('b', 'c'), ('z', 'c'), ('b', 'bb'), ('z', 'aa'), ('a', 'bb'), ('b', 'aa'), ('a', ''), ('a', 'aa'), ('', 'aa'), ('a', 'c'), ('z', ''), ('', 'c')}  of size  16\n",
            " cat and product have the same size \n"
          ]
        }
      ]
    },
    {
      "cell_type": "markdown",
      "metadata": {
        "id": "bdpslFlAuLN4"
      },
      "source": [
        "#### The statements you are requested to make corresponding to the prints can be added below\n",
        "#### Did you choose the languages such that cat and intersection resulted in the same size?\n",
        "\n",
        "...\n",
        "...\n"
      ]
    },
    {
      "cell_type": "markdown",
      "metadata": {
        "id": "zAerOP9YuLN4"
      },
      "source": [
        "# Task-2: Define two languages to print \"cat and product differ in size\" below. L1 and L2 must both contain $\\varepsilon$."
      ]
    },
    {
      "cell_type": "code",
      "metadata": {
        "id": "7JaToGQYuLN4"
      },
      "source": [
        "L1 = {'ac','c',''}\n",
        "L2 = {'','a','c'}"
      ],
      "execution_count": 35,
      "outputs": []
    },
    {
      "cell_type": "code",
      "metadata": {
        "id": "9S6EP7A7uLN5",
        "colab": {
          "base_uri": "https://localhost:8080/"
        },
        "outputId": "61cc79d9-68df-4470-c588-b0ddf19cd19e"
      },
      "source": [
        "print(\"L1 and L2 are\", L1, L2)\n",
        "\n",
        "# Perform their contatenation \n",
        "\n",
        "catL1L2 = lcat(L1,L2)\n",
        "lencatL1L2 = len(catL1L2)\n",
        "\n",
        "print(\"Cat of L1 and L2 is\", catL1L2, \" of size \", lencatL1L2)\n",
        "\n",
        "# Perform their intersection\n",
        "\n",
        "intL1L2 = lint(L1,L2)\n",
        "lenintL1L2 = len(intL1L2)\n",
        "\n",
        "print(\"Intersection of L1 and L2 is\", intL1L2, \" of size \", lenintL1L2)\n",
        "\n",
        "# Make a statement of what you observe\n",
        "\n",
        "prodL1L2 = { (x,y) for x in L1 for y in L2 }\n",
        "lenprodL1L2 = len(prodL1L2)\n",
        "\n",
        "print(\"Product of L1 and L2 is\", prodL1L2, \" of size \", lenprodL1L2)\n",
        "\n",
        "if (lenprodL1L2 != lencatL1L2):\n",
        "    print(\" cat and product differ in size \")\n",
        "else:\n",
        "    print(\" cat and product have the same size \")\n",
        "    \n",
        " "
      ],
      "execution_count": 36,
      "outputs": [
        {
          "output_type": "stream",
          "name": "stdout",
          "text": [
            "L1 and L2 are {'', 'c', 'ac'} {'', 'a', 'c'}\n",
            "Cat of L1 and L2 is {'', 'aca', 'a', 'cc', 'ac', 'acc', 'ca', 'c'}  of size  8\n",
            "Intersection of L1 and L2 is {'', 'c'}  of size  2\n",
            "Product of L1 and L2 is {('', ''), ('c', 'a'), ('c', 'c'), ('ac', 'c'), ('', 'a'), ('c', ''), ('ac', 'a'), ('ac', ''), ('', 'c')}  of size  9\n",
            " cat and product differ in size \n"
          ]
        }
      ]
    },
    {
      "cell_type": "markdown",
      "metadata": {
        "id": "Fe6iKoj3uLN5"
      },
      "source": [
        "#### The statements you are requested to make corresponding to the prints can be added below\n",
        "#### Did you choose the languages such that cat and intersection resulted in different sizes?\n",
        "\n",
        "...\n",
        "...\n"
      ]
    }
  ]
}