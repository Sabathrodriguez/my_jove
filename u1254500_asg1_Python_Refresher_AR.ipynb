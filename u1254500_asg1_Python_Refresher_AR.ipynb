{
  "nbformat": 4,
  "nbformat_minor": 0,
  "metadata": {
    "kernelspec": {
      "display_name": "Python 3",
      "language": "python",
      "name": "python3"
    },
    "language_info": {
      "codemirror_mode": {
        "name": "ipython",
        "version": 3
      },
      "file_extension": ".py",
      "mimetype": "text/x-python",
      "name": "python",
      "nbconvert_exporter": "python",
      "pygments_lexer": "ipython3",
      "version": "3.7.3"
    },
    "colab": {
      "name": "u1254500_asg1_Python_Refresher_AR.ipynb",
      "provenance": [],
      "collapsed_sections": []
    }
  },
  "cells": [
    {
      "cell_type": "markdown",
      "metadata": {
        "id": "hpz_9V870Rwv"
      },
      "source": [
        "# First let's import, then look for the assignment below"
      ]
    },
    {
      "cell_type": "code",
      "metadata": {
        "id": "ORVkB1QW0Rwx",
        "colab": {
          "base_uri": "https://localhost:8080/"
        },
        "outputId": "0e3f4547-4617-47d8-d4d3-9860919c5298"
      },
      "source": [
        "#~~~~~~~~~~~~~~~~~~~~~~~~~~~~~~~~~~~~~~~~~~~~~~~~~~~~~~~\n",
        "import sys\n",
        "\n",
        "# -- Detect if in Own Install or in Colab\n",
        "try:\n",
        "    import google.colab\n",
        "    OWN_INSTALL = False\n",
        "except:\n",
        "    OWN_INSTALL = True\n",
        "    \n",
        "if OWN_INSTALL:\n",
        "    \n",
        "  #---- Leave these definitions ON if running on laptop\n",
        "  #---- Else turn OFF by putting them between ''' ... '''\n",
        "\n",
        "  sys.path[0:0] = ['../../../../..',  '../../../../../3rdparty',  \n",
        "                   '../../../..',  '../../../../3rdparty',  \n",
        "                   '../../..',     '../../../3rdparty', \n",
        "                   '../..',        '../../3rdparty',\n",
        "                   '..',           '../3rdparty' ]\n",
        "\n",
        "else: # In colab\n",
        "  ! if [ ! -d Jove ]; then git clone https://github.com/ganeshutah/Jove Jove; fi\n",
        "  sys.path.append('./Jove')\n",
        "  sys.path.append('./Jove/jove')\n",
        "\n",
        "# -- common imports --\n",
        "from jove.LangDef   import *\n",
        "#~~~~~~~~~~~~~~~~~~~~~~~~~~~~~~~~~~~~~~~~~~~~~~~~~~~~~~~"
      ],
      "execution_count": null,
      "outputs": [
        {
          "output_type": "stream",
          "name": "stdout",
          "text": [
            "Cloning into 'Jove'...\n",
            "remote: Enumerating objects: 4741, done.\u001b[K\n",
            "remote: Counting objects: 100% (107/107), done.\u001b[K\n",
            "remote: Compressing objects: 100% (73/73), done.\u001b[K\n",
            "remote: Total 4741 (delta 59), reused 73 (delta 30), pack-reused 4634\u001b[K\n",
            "Receiving objects: 100% (4741/4741), 7.51 MiB | 24.49 MiB/s, done.\n",
            "Resolving deltas: 100% (3064/3064), done.\n",
            "You may use any of these help commands:\n",
            "help(lphi)\n",
            "help(lunit)\n",
            "help(lcat)\n",
            "help(lexp)\n",
            "help(lunion)\n",
            "help(lstar)\n",
            "help(srev)\n",
            "help(lrev)\n",
            "help(shomo)\n",
            "help(lhomo)\n",
            "help(powset)\n",
            "help(lint)\n",
            "help(lsymdiff)\n",
            "help(lminus)\n",
            "help(lissubset)\n",
            "help(lissuperset)\n",
            "help(lcomplem)\n",
            "help(product)\n",
            "help(nthnumeric)\n",
            "\n"
          ]
        }
      ]
    },
    {
      "cell_type": "markdown",
      "metadata": {
        "id": "HiPgo9Ap0Rwz"
      },
      "source": [
        "# Assignment-1 Problem-1 on Python Basics  \n",
        "\n",
        "## Graded by Archit Rathore (AR)\n",
        "\n",
        "### BEFORE YOU SUBMIT THIS FILE, PLEASE RENAME THIS FILE BY REPLACING THE 0000000 IN THE FILE NAME WITH YOUR CORRECT UNID. KEEP THE \"u\" AT THE BEGINNING."
      ]
    },
    {
      "cell_type": "markdown",
      "metadata": {
        "id": "fAc6NTBP0Rwz"
      },
      "source": [
        "## Define a regular language via Python's set builder (set comprehension) syntax\n",
        "\n",
        "<font size=\"4\"> \n",
        "    \n",
        "Recall from Chapter-1 that sets of strings of the form \"any number of $a$'s followed by any number of $b$'s followed by any number of $c$'s are regular languages.\n",
        "\n",
        "* Here, for instance, is a regular language\n",
        "    \n",
        "    $$ \\{ a^i b^j c^k \\;:\\; i,j,k \\ge 0 \\}$$\n",
        "  \n",
        "\n",
        "**Task for you**:\n",
        "\n",
        "* Define the above set in Python, limiting $i,j,k$ to be in $\\{0, \\ldots, 4\\}$.\n",
        "\n",
        "**IMPORTANT NOTE**: ALL finite sets are regular. Thus by truncating the set to a finite size, we always get a regular language. The purpose of truncation is ONLY to make sure that the printing stops. What we are really referring to as a regular language of interest is the mathematical language\n",
        "\n",
        "   $$ \\{ a^i b^j c^k \\;:\\; i,j,k \\ge 0 \\}$$\n",
        "    \n",
        "    \n",
        "</font>  "
      ]
    },
    {
      "cell_type": "code",
      "metadata": {
        "id": "SX65Os4W0Rw0",
        "colab": {
          "base_uri": "https://localhost:8080/"
        },
        "outputId": "a6de80c8-8797-43d4-cdd0-281e2c09235a"
      },
      "source": [
        "# The above regular language truncated to a small size, below\n",
        "a = 'a'\n",
        "b = 'b'\n",
        "c = 'c'\n",
        "A_reg_Language = {(a*i, b*j, c*k) for i in range(5) for j in range (5) for k in range(5)}\n",
        "\n",
        "# Print its contents\n",
        "A_reg_Language"
      ],
      "execution_count": null,
      "outputs": [
        {
          "output_type": "execute_result",
          "data": {
            "text/plain": [
              "{('', '', ''),\n",
              " ('', '', 'c'),\n",
              " ('', '', 'cc'),\n",
              " ('', '', 'ccc'),\n",
              " ('', '', 'cccc'),\n",
              " ('', 'b', ''),\n",
              " ('', 'b', 'c'),\n",
              " ('', 'b', 'cc'),\n",
              " ('', 'b', 'ccc'),\n",
              " ('', 'b', 'cccc'),\n",
              " ('', 'bb', ''),\n",
              " ('', 'bb', 'c'),\n",
              " ('', 'bb', 'cc'),\n",
              " ('', 'bb', 'ccc'),\n",
              " ('', 'bb', 'cccc'),\n",
              " ('', 'bbb', ''),\n",
              " ('', 'bbb', 'c'),\n",
              " ('', 'bbb', 'cc'),\n",
              " ('', 'bbb', 'ccc'),\n",
              " ('', 'bbb', 'cccc'),\n",
              " ('', 'bbbb', ''),\n",
              " ('', 'bbbb', 'c'),\n",
              " ('', 'bbbb', 'cc'),\n",
              " ('', 'bbbb', 'ccc'),\n",
              " ('', 'bbbb', 'cccc'),\n",
              " ('a', '', ''),\n",
              " ('a', '', 'c'),\n",
              " ('a', '', 'cc'),\n",
              " ('a', '', 'ccc'),\n",
              " ('a', '', 'cccc'),\n",
              " ('a', 'b', ''),\n",
              " ('a', 'b', 'c'),\n",
              " ('a', 'b', 'cc'),\n",
              " ('a', 'b', 'ccc'),\n",
              " ('a', 'b', 'cccc'),\n",
              " ('a', 'bb', ''),\n",
              " ('a', 'bb', 'c'),\n",
              " ('a', 'bb', 'cc'),\n",
              " ('a', 'bb', 'ccc'),\n",
              " ('a', 'bb', 'cccc'),\n",
              " ('a', 'bbb', ''),\n",
              " ('a', 'bbb', 'c'),\n",
              " ('a', 'bbb', 'cc'),\n",
              " ('a', 'bbb', 'ccc'),\n",
              " ('a', 'bbb', 'cccc'),\n",
              " ('a', 'bbbb', ''),\n",
              " ('a', 'bbbb', 'c'),\n",
              " ('a', 'bbbb', 'cc'),\n",
              " ('a', 'bbbb', 'ccc'),\n",
              " ('a', 'bbbb', 'cccc'),\n",
              " ('aa', '', ''),\n",
              " ('aa', '', 'c'),\n",
              " ('aa', '', 'cc'),\n",
              " ('aa', '', 'ccc'),\n",
              " ('aa', '', 'cccc'),\n",
              " ('aa', 'b', ''),\n",
              " ('aa', 'b', 'c'),\n",
              " ('aa', 'b', 'cc'),\n",
              " ('aa', 'b', 'ccc'),\n",
              " ('aa', 'b', 'cccc'),\n",
              " ('aa', 'bb', ''),\n",
              " ('aa', 'bb', 'c'),\n",
              " ('aa', 'bb', 'cc'),\n",
              " ('aa', 'bb', 'ccc'),\n",
              " ('aa', 'bb', 'cccc'),\n",
              " ('aa', 'bbb', ''),\n",
              " ('aa', 'bbb', 'c'),\n",
              " ('aa', 'bbb', 'cc'),\n",
              " ('aa', 'bbb', 'ccc'),\n",
              " ('aa', 'bbb', 'cccc'),\n",
              " ('aa', 'bbbb', ''),\n",
              " ('aa', 'bbbb', 'c'),\n",
              " ('aa', 'bbbb', 'cc'),\n",
              " ('aa', 'bbbb', 'ccc'),\n",
              " ('aa', 'bbbb', 'cccc'),\n",
              " ('aaa', '', ''),\n",
              " ('aaa', '', 'c'),\n",
              " ('aaa', '', 'cc'),\n",
              " ('aaa', '', 'ccc'),\n",
              " ('aaa', '', 'cccc'),\n",
              " ('aaa', 'b', ''),\n",
              " ('aaa', 'b', 'c'),\n",
              " ('aaa', 'b', 'cc'),\n",
              " ('aaa', 'b', 'ccc'),\n",
              " ('aaa', 'b', 'cccc'),\n",
              " ('aaa', 'bb', ''),\n",
              " ('aaa', 'bb', 'c'),\n",
              " ('aaa', 'bb', 'cc'),\n",
              " ('aaa', 'bb', 'ccc'),\n",
              " ('aaa', 'bb', 'cccc'),\n",
              " ('aaa', 'bbb', ''),\n",
              " ('aaa', 'bbb', 'c'),\n",
              " ('aaa', 'bbb', 'cc'),\n",
              " ('aaa', 'bbb', 'ccc'),\n",
              " ('aaa', 'bbb', 'cccc'),\n",
              " ('aaa', 'bbbb', ''),\n",
              " ('aaa', 'bbbb', 'c'),\n",
              " ('aaa', 'bbbb', 'cc'),\n",
              " ('aaa', 'bbbb', 'ccc'),\n",
              " ('aaa', 'bbbb', 'cccc'),\n",
              " ('aaaa', '', ''),\n",
              " ('aaaa', '', 'c'),\n",
              " ('aaaa', '', 'cc'),\n",
              " ('aaaa', '', 'ccc'),\n",
              " ('aaaa', '', 'cccc'),\n",
              " ('aaaa', 'b', ''),\n",
              " ('aaaa', 'b', 'c'),\n",
              " ('aaaa', 'b', 'cc'),\n",
              " ('aaaa', 'b', 'ccc'),\n",
              " ('aaaa', 'b', 'cccc'),\n",
              " ('aaaa', 'bb', ''),\n",
              " ('aaaa', 'bb', 'c'),\n",
              " ('aaaa', 'bb', 'cc'),\n",
              " ('aaaa', 'bb', 'ccc'),\n",
              " ('aaaa', 'bb', 'cccc'),\n",
              " ('aaaa', 'bbb', ''),\n",
              " ('aaaa', 'bbb', 'c'),\n",
              " ('aaaa', 'bbb', 'cc'),\n",
              " ('aaaa', 'bbb', 'ccc'),\n",
              " ('aaaa', 'bbb', 'cccc'),\n",
              " ('aaaa', 'bbbb', ''),\n",
              " ('aaaa', 'bbbb', 'c'),\n",
              " ('aaaa', 'bbbb', 'cc'),\n",
              " ('aaaa', 'bbbb', 'ccc'),\n",
              " ('aaaa', 'bbbb', 'cccc')}"
            ]
          },
          "metadata": {},
          "execution_count": 43
        }
      ]
    },
    {
      "cell_type": "markdown",
      "metadata": {
        "id": "JO6U9m860Rw0"
      },
      "source": [
        "## Define a context-free language via Python's set builder (set comprehension) syntax\n",
        "\n",
        "<font size=\"4\"> \n",
        "    \n",
        "Recall from Chapter-1 that sets of strings of the form \"any number of $a$'s followed by the same number of $b$'s and $c$'s is context-free.\n",
        "    \n",
        "* Here, for instance, is a context-free language\n",
        "    \n",
        "    $$ \\{ a^i b^j c^j \\;:\\; i,j \\ge 0 \\}$$\n",
        "     \n",
        "\n",
        "**Task for you**:\n",
        "\n",
        "* Define the above set in Python, again limiting $i,j,k$ to be in $\\{0, \\ldots, 4\\}$.\n",
        "\n",
        "**IMPORTANT NOTE**: ALL finite sets are regular. Thus by truncating the set to a finite size, we always get a regular language. The purpose of truncation is ONLY to make sure that the printing stops. What we are really referring to as a **context-free language** of interest is the mathematical language\n",
        "\n",
        "   $$ \\{ a^i b^j c^j \\;:\\; i,j \\ge 0 \\}$$\n",
        "    \n",
        "    \n",
        "</font>  "
      ]
    },
    {
      "cell_type": "code",
      "metadata": {
        "id": "IwjW9-jT0Rw1",
        "colab": {
          "base_uri": "https://localhost:8080/"
        },
        "outputId": "8a3739b7-c1c8-4712-acac-fb241b8423ff"
      },
      "source": [
        "# Your Python definition of a context-free language, below\n",
        "A_context_free_language = {('a'*i,'b'*j,'c'*j) for i in range(5) for j in range(5) }\n",
        "\n",
        "# Print its contents\n",
        "A_context_free_language "
      ],
      "execution_count": null,
      "outputs": [
        {
          "output_type": "execute_result",
          "data": {
            "text/plain": [
              "{('', '', ''),\n",
              " ('', 'b', 'c'),\n",
              " ('', 'bb', 'cc'),\n",
              " ('', 'bbb', 'ccc'),\n",
              " ('', 'bbbb', 'cccc'),\n",
              " ('a', '', ''),\n",
              " ('a', 'b', 'c'),\n",
              " ('a', 'bb', 'cc'),\n",
              " ('a', 'bbb', 'ccc'),\n",
              " ('a', 'bbbb', 'cccc'),\n",
              " ('aa', '', ''),\n",
              " ('aa', 'b', 'c'),\n",
              " ('aa', 'bb', 'cc'),\n",
              " ('aa', 'bbb', 'ccc'),\n",
              " ('aa', 'bbbb', 'cccc'),\n",
              " ('aaa', '', ''),\n",
              " ('aaa', 'b', 'c'),\n",
              " ('aaa', 'bb', 'cc'),\n",
              " ('aaa', 'bbb', 'ccc'),\n",
              " ('aaa', 'bbbb', 'cccc'),\n",
              " ('aaaa', '', ''),\n",
              " ('aaaa', 'b', 'c'),\n",
              " ('aaaa', 'bb', 'cc'),\n",
              " ('aaaa', 'bbb', 'ccc'),\n",
              " ('aaaa', 'bbbb', 'cccc')}"
            ]
          },
          "metadata": {},
          "execution_count": 44
        }
      ]
    },
    {
      "cell_type": "markdown",
      "metadata": {
        "id": "66Tp3xtm0Rw2"
      },
      "source": [
        "## Define another context-free language  \n",
        "\n",
        "<font size=\"4\"> \n",
        "    \n",
        "In Chapter 4, we will study the Pumping Lemma to argue that this language is not context-free:\n",
        "    $$L_{if} = \\{ a^i b^j c^k \\;:\\; {\\rm if}\\; (i=2)\\; {\\rm then}\\; (j=k) \\}$$\n",
        "    \n",
        "\n",
        "\n",
        "**Task for you**:\n",
        "\n",
        "* Define $L_{if}$ in Python, again limiting $i,j,k$ to be in $\\{0, \\ldots, 4\\}$.\n",
        "* List all the strings where the condition $(i=2)$ is met. How many such strings are there?\n",
        "    \n",
        "**IMPORTANT NOTE**: ALL finite sets are regular. Thus by truncating the set to a finite size, we always get a regular language. The purpose of truncation is ONLY to make sure that the printing stops. What we are really referring to as a **context-free language** of interest is the mathematical language\n",
        "\n",
        "   \n",
        "  $$L_{if} = \\{ a^i b^j c^k \\;:\\; {\\rm if}\\; (i=2)\\; {\\rm then}\\; (j=k) \\}$$\n",
        "    \n",
        "    \n",
        "</font>  "
      ]
    },
    {
      "cell_type": "code",
      "metadata": {
        "id": "4gr2Z2bS0Rw3",
        "colab": {
          "base_uri": "https://localhost:8080/"
        },
        "outputId": "8dd6ce0a-073e-4e89-f4f0-cca164e76e22"
      },
      "source": [
        " \n",
        "# Your Python definition of the language Lif below\n",
        "Lif =  {('a'*i,'b'*j,'c' * j if i == 2 else'c'*k) for i in range(5) for j in range(5) for k in range(5)}\n",
        "\n",
        "# print Lif\n",
        "\n",
        "Lif\n"
      ],
      "execution_count": null,
      "outputs": [
        {
          "output_type": "execute_result",
          "data": {
            "text/plain": [
              "{('', '', ''),\n",
              " ('', '', 'c'),\n",
              " ('', '', 'cc'),\n",
              " ('', '', 'ccc'),\n",
              " ('', '', 'cccc'),\n",
              " ('', 'b', ''),\n",
              " ('', 'b', 'c'),\n",
              " ('', 'b', 'cc'),\n",
              " ('', 'b', 'ccc'),\n",
              " ('', 'b', 'cccc'),\n",
              " ('', 'bb', ''),\n",
              " ('', 'bb', 'c'),\n",
              " ('', 'bb', 'cc'),\n",
              " ('', 'bb', 'ccc'),\n",
              " ('', 'bb', 'cccc'),\n",
              " ('', 'bbb', ''),\n",
              " ('', 'bbb', 'c'),\n",
              " ('', 'bbb', 'cc'),\n",
              " ('', 'bbb', 'ccc'),\n",
              " ('', 'bbb', 'cccc'),\n",
              " ('', 'bbbb', ''),\n",
              " ('', 'bbbb', 'c'),\n",
              " ('', 'bbbb', 'cc'),\n",
              " ('', 'bbbb', 'ccc'),\n",
              " ('', 'bbbb', 'cccc'),\n",
              " ('a', '', ''),\n",
              " ('a', '', 'c'),\n",
              " ('a', '', 'cc'),\n",
              " ('a', '', 'ccc'),\n",
              " ('a', '', 'cccc'),\n",
              " ('a', 'b', ''),\n",
              " ('a', 'b', 'c'),\n",
              " ('a', 'b', 'cc'),\n",
              " ('a', 'b', 'ccc'),\n",
              " ('a', 'b', 'cccc'),\n",
              " ('a', 'bb', ''),\n",
              " ('a', 'bb', 'c'),\n",
              " ('a', 'bb', 'cc'),\n",
              " ('a', 'bb', 'ccc'),\n",
              " ('a', 'bb', 'cccc'),\n",
              " ('a', 'bbb', ''),\n",
              " ('a', 'bbb', 'c'),\n",
              " ('a', 'bbb', 'cc'),\n",
              " ('a', 'bbb', 'ccc'),\n",
              " ('a', 'bbb', 'cccc'),\n",
              " ('a', 'bbbb', ''),\n",
              " ('a', 'bbbb', 'c'),\n",
              " ('a', 'bbbb', 'cc'),\n",
              " ('a', 'bbbb', 'ccc'),\n",
              " ('a', 'bbbb', 'cccc'),\n",
              " ('aa', '', ''),\n",
              " ('aa', 'b', 'c'),\n",
              " ('aa', 'bb', 'cc'),\n",
              " ('aa', 'bbb', 'ccc'),\n",
              " ('aa', 'bbbb', 'cccc'),\n",
              " ('aaa', '', ''),\n",
              " ('aaa', '', 'c'),\n",
              " ('aaa', '', 'cc'),\n",
              " ('aaa', '', 'ccc'),\n",
              " ('aaa', '', 'cccc'),\n",
              " ('aaa', 'b', ''),\n",
              " ('aaa', 'b', 'c'),\n",
              " ('aaa', 'b', 'cc'),\n",
              " ('aaa', 'b', 'ccc'),\n",
              " ('aaa', 'b', 'cccc'),\n",
              " ('aaa', 'bb', ''),\n",
              " ('aaa', 'bb', 'c'),\n",
              " ('aaa', 'bb', 'cc'),\n",
              " ('aaa', 'bb', 'ccc'),\n",
              " ('aaa', 'bb', 'cccc'),\n",
              " ('aaa', 'bbb', ''),\n",
              " ('aaa', 'bbb', 'c'),\n",
              " ('aaa', 'bbb', 'cc'),\n",
              " ('aaa', 'bbb', 'ccc'),\n",
              " ('aaa', 'bbb', 'cccc'),\n",
              " ('aaa', 'bbbb', ''),\n",
              " ('aaa', 'bbbb', 'c'),\n",
              " ('aaa', 'bbbb', 'cc'),\n",
              " ('aaa', 'bbbb', 'ccc'),\n",
              " ('aaa', 'bbbb', 'cccc'),\n",
              " ('aaaa', '', ''),\n",
              " ('aaaa', '', 'c'),\n",
              " ('aaaa', '', 'cc'),\n",
              " ('aaaa', '', 'ccc'),\n",
              " ('aaaa', '', 'cccc'),\n",
              " ('aaaa', 'b', ''),\n",
              " ('aaaa', 'b', 'c'),\n",
              " ('aaaa', 'b', 'cc'),\n",
              " ('aaaa', 'b', 'ccc'),\n",
              " ('aaaa', 'b', 'cccc'),\n",
              " ('aaaa', 'bb', ''),\n",
              " ('aaaa', 'bb', 'c'),\n",
              " ('aaaa', 'bb', 'cc'),\n",
              " ('aaaa', 'bb', 'ccc'),\n",
              " ('aaaa', 'bb', 'cccc'),\n",
              " ('aaaa', 'bbb', ''),\n",
              " ('aaaa', 'bbb', 'c'),\n",
              " ('aaaa', 'bbb', 'cc'),\n",
              " ('aaaa', 'bbb', 'ccc'),\n",
              " ('aaaa', 'bbb', 'cccc'),\n",
              " ('aaaa', 'bbbb', ''),\n",
              " ('aaaa', 'bbbb', 'c'),\n",
              " ('aaaa', 'bbbb', 'cc'),\n",
              " ('aaaa', 'bbbb', 'ccc'),\n",
              " ('aaaa', 'bbbb', 'cccc')}"
            ]
          },
          "metadata": {},
          "execution_count": 66
        }
      ]
    },
    {
      "cell_type": "markdown",
      "metadata": {
        "id": "3xAsgbdP0Rw3"
      },
      "source": [
        "# Number of strings where (i=2) is met, and which are they?\n",
        "\n",
        "There are 14 strings where (i=2) is met \n",
        "\n",
        "# The strings where i = 2 is met are these:\n",
        "('aa', '', ''),\n",
        "('aa', 'b', 'c'),\n",
        "('aa', 'bb', 'cc'),\n",
        "('aa', 'bbb', 'ccc'),\n",
        "('aa', 'bbbb', 'cccc')\n",
        " "
      ]
    },
    {
      "cell_type": "markdown",
      "metadata": {
        "id": "xTSZ0vdN0Rw4"
      },
      "source": [
        "# END"
      ]
    }
  ]
}